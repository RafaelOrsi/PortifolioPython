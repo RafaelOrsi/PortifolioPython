{
 "cells": [
  {
   "cell_type": "markdown",
   "id": "f073c2f4",
   "metadata": {},
   "source": [
    "## Barra de progresso para códigos\n",
    "- Mostra a barra de progresso\n",
    "- Mostra o tempo que falta para o código terminar de rodar\n",
    "- Mostra o tempo de cada iteração (for/while)\n",
    "- Mostra a quantidade de iterações por segundo"
   ]
  },
  {
   "cell_type": "code",
   "execution_count": null,
   "id": "2e507817",
   "metadata": {},
   "outputs": [],
   "source": [
    "# Exemplo 1\n",
    "from tqdm import tqdm\n",
    "import time\n",
    "\n",
    "# forma mais simples\n",
    "for i in tqdm(range(10)):\n",
    "    time.sleep(1)"
   ]
  },
  {
   "cell_type": "code",
   "execution_count": null,
   "id": "f29d2595",
   "metadata": {},
   "outputs": [],
   "source": [
    "# Exemplo 2\n",
    "with tqdm(total=100) as barra_progresso:\n",
    "\n",
    "    for i in range(10):\n",
    "\n",
    "        time.sleep(1)\n",
    "\n",
    "        barra_progresso.update(10)"
   ]
  },
  {
   "cell_type": "code",
   "execution_count": null,
   "id": "0436ea22",
   "metadata": {},
   "outputs": [],
   "source": [
    "# Exemplo 3\n",
    "# quero entregar pra cidade do Rio de Janeiro\n",
    "\n",
    "import requests\n",
    "\n",
    "\n",
    "\n",
    "# passo 1: pegar a lista de ceps\n",
    "\n",
    "with open(\"ceps.txt\", \"r\") as arquivo:\n",
    "\n",
    "    ceps = arquivo.read()\n",
    "\n",
    "ceps = ceps.split(\"\\n\")\n",
    "\n",
    "# passo 2: pegar as informações de cada cep\n",
    "\n",
    "enderecos_entrega = []\n",
    "\n",
    "for cep in tqdm(ceps):\n",
    "\n",
    "    link = f'https://cep.awesomeapi.com.br/json/{cep}'\n",
    "\n",
    "    # passo 3: verificar se a cidade é RIo de Janeiro\n",
    "\n",
    "    requisicao = requests.get(link)\n",
    "\n",
    "    resposta = requisicao.json()\n",
    "\n",
    "    cidade = resposta['city']\n",
    "\n",
    "    bairro = resposta['district']\n",
    "\n",
    "    # passo 4: printar o cep e o bairro\n",
    "\n",
    "    if cidade == \"Rio de Janeiro\":\n",
    "\n",
    "        enderecos_entrega.append((cep, bairro))\n",
    "\n",
    "print(enderecos_entrega)"
   ]
  }
 ],
 "metadata": {
  "kernelspec": {
   "display_name": "Python 3 (ipykernel)",
   "language": "python",
   "name": "python3"
  },
  "language_info": {
   "codemirror_mode": {
    "name": "ipython",
    "version": 3
   },
   "file_extension": ".py",
   "mimetype": "text/x-python",
   "name": "python",
   "nbconvert_exporter": "python",
   "pygments_lexer": "ipython3",
   "version": "3.9.7"
  }
 },
 "nbformat": 4,
 "nbformat_minor": 5
}
