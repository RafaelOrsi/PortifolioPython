{
 "cells": [
  {
   "cell_type": "code",
   "execution_count": 12,
   "id": "b87a6aff",
   "metadata": {},
   "outputs": [
    {
     "name": "stdout",
     "output_type": "stream",
     "text": [
      "[[0.98 0.32 0.58 ... 0.91 0.22 0.57]\n",
      " [0.9  0.22 0.73 ... 0.9  0.55 0.4 ]\n",
      " [0.41 0.69 0.13 ... 0.48 0.04 0.79]\n",
      " ...\n",
      " [0.95 0.65 0.2  ... 0.37 0.71 0.19]\n",
      " [0.58 0.5  0.41 ... 0.16 0.84 0.39]\n",
      " [0.4  0.05 0.31 ... 0.65 0.08 0.88]]\n"
     ]
    }
   ],
   "source": [
    "import numpy as np # Importa biblioteca\n",
    "array = np.random.randint(100, size=(10, 300))/100 # Detrmina o número de linhas e colunas\n",
    "print(array) # Imprime matriz"
   ]
  },
  {
   "cell_type": "code",
   "execution_count": 13,
   "id": "139a40e6",
   "metadata": {},
   "outputs": [],
   "source": [
    "import pandas as pd # Importa biblioteca\n",
    "ma = pd.DataFrame(array) # Converte array em dataframe\n",
    "ma.to_csv('matrizaleatoria.csv', header=None) # Salva como CSV"
   ]
  },
  {
   "cell_type": "code",
   "execution_count": null,
   "id": "88a8cdb1",
   "metadata": {},
   "outputs": [],
   "source": []
  }
 ],
 "metadata": {
  "kernelspec": {
   "display_name": "Python 3 (ipykernel)",
   "language": "python",
   "name": "python3"
  },
  "language_info": {
   "codemirror_mode": {
    "name": "ipython",
    "version": 3
   },
   "file_extension": ".py",
   "mimetype": "text/x-python",
   "name": "python",
   "nbconvert_exporter": "python",
   "pygments_lexer": "ipython3",
   "version": "3.9.7"
  }
 },
 "nbformat": 4,
 "nbformat_minor": 5
}
