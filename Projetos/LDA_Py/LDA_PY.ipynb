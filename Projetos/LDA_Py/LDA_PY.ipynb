{
 "cells": [
  {
   "cell_type": "markdown",
   "id": "7dae0077",
   "metadata": {},
   "source": [
    "# Linear Discriminant Analysis in Python\n",
    "\n",
    "Linear discriminant analysis is a method you can use when you have a set of predictor variables and you’d like to classify a response variable into two or more classes.\n",
    "\n",
    "This tutorial provides a step-by-step example of how to perform linear discriminant analysis in Python."
   ]
  },
  {
   "cell_type": "markdown",
   "id": "4237783a",
   "metadata": {},
   "source": [
    "### Step 1: Load Necessary Libraries\n",
    "\n",
    "First, we’ll load the necessary functions and libraries for this example:"
   ]
  },
  {
   "cell_type": "code",
   "execution_count": 2,
   "id": "e43c40bd",
   "metadata": {},
   "outputs": [],
   "source": [
    "from sklearn.model_selection import train_test_split\n",
    "from sklearn.model_selection import RepeatedStratifiedKFold\n",
    "from sklearn.model_selection import cross_val_score\n",
    "from sklearn.discriminant_analysis import LinearDiscriminantAnalysis \n",
    "from sklearn import datasets\n",
    "import matplotlib.pyplot as plt\n",
    "import pandas as pd\n",
    "import numpy as np"
   ]
  },
  {
   "cell_type": "markdown",
   "id": "0978dda5",
   "metadata": {},
   "source": [
    "### Step 2: Load the Data\n",
    "For this example, we’ll use the iris dataset from the sklearn library. The following code shows how to load this dataset and convert it to a pandas DataFrame to make it easy to work with:"
   ]
  },
  {
   "cell_type": "code",
   "execution_count": 3,
   "id": "a9b1cb62",
   "metadata": {},
   "outputs": [
    {
     "data": {
      "text/html": [
       "<div>\n",
       "<style scoped>\n",
       "    .dataframe tbody tr th:only-of-type {\n",
       "        vertical-align: middle;\n",
       "    }\n",
       "\n",
       "    .dataframe tbody tr th {\n",
       "        vertical-align: top;\n",
       "    }\n",
       "\n",
       "    .dataframe thead th {\n",
       "        text-align: right;\n",
       "    }\n",
       "</style>\n",
       "<table border=\"1\" class=\"dataframe\">\n",
       "  <thead>\n",
       "    <tr style=\"text-align: right;\">\n",
       "      <th></th>\n",
       "      <th>s_length</th>\n",
       "      <th>s_width</th>\n",
       "      <th>p_length</th>\n",
       "      <th>p_width</th>\n",
       "      <th>target</th>\n",
       "      <th>species</th>\n",
       "    </tr>\n",
       "  </thead>\n",
       "  <tbody>\n",
       "    <tr>\n",
       "      <th>0</th>\n",
       "      <td>5.1</td>\n",
       "      <td>3.5</td>\n",
       "      <td>1.4</td>\n",
       "      <td>0.2</td>\n",
       "      <td>0.0</td>\n",
       "      <td>setosa</td>\n",
       "    </tr>\n",
       "    <tr>\n",
       "      <th>1</th>\n",
       "      <td>4.9</td>\n",
       "      <td>3.0</td>\n",
       "      <td>1.4</td>\n",
       "      <td>0.2</td>\n",
       "      <td>0.0</td>\n",
       "      <td>setosa</td>\n",
       "    </tr>\n",
       "    <tr>\n",
       "      <th>2</th>\n",
       "      <td>4.7</td>\n",
       "      <td>3.2</td>\n",
       "      <td>1.3</td>\n",
       "      <td>0.2</td>\n",
       "      <td>0.0</td>\n",
       "      <td>setosa</td>\n",
       "    </tr>\n",
       "    <tr>\n",
       "      <th>3</th>\n",
       "      <td>4.6</td>\n",
       "      <td>3.1</td>\n",
       "      <td>1.5</td>\n",
       "      <td>0.2</td>\n",
       "      <td>0.0</td>\n",
       "      <td>setosa</td>\n",
       "    </tr>\n",
       "    <tr>\n",
       "      <th>4</th>\n",
       "      <td>5.0</td>\n",
       "      <td>3.6</td>\n",
       "      <td>1.4</td>\n",
       "      <td>0.2</td>\n",
       "      <td>0.0</td>\n",
       "      <td>setosa</td>\n",
       "    </tr>\n",
       "  </tbody>\n",
       "</table>\n",
       "</div>"
      ],
      "text/plain": [
       "   s_length  s_width  p_length  p_width  target species\n",
       "0       5.1      3.5       1.4      0.2     0.0  setosa\n",
       "1       4.9      3.0       1.4      0.2     0.0  setosa\n",
       "2       4.7      3.2       1.3      0.2     0.0  setosa\n",
       "3       4.6      3.1       1.5      0.2     0.0  setosa\n",
       "4       5.0      3.6       1.4      0.2     0.0  setosa"
      ]
     },
     "execution_count": 3,
     "metadata": {},
     "output_type": "execute_result"
    }
   ],
   "source": [
    "#load iris dataset\n",
    "iris = datasets.load_iris()\n",
    "\n",
    "#convert dataset to pandas DataFrame\n",
    "df = pd.DataFrame(data = np.c_[iris['data'], iris['target']],\n",
    "                 columns = iris['feature_names'] + ['target'])\n",
    "df['species'] = pd.Categorical.from_codes(iris.target, iris.target_names)\n",
    "df.columns = ['s_length', 's_width', 'p_length', 'p_width', 'target', 'species']\n",
    "\n",
    "#view first six rows of DataFrame\n",
    "df.head()"
   ]
  },
  {
   "cell_type": "code",
   "execution_count": 4,
   "id": "ca425c00",
   "metadata": {},
   "outputs": [
    {
     "data": {
      "text/plain": [
       "150"
      ]
     },
     "execution_count": 4,
     "metadata": {},
     "output_type": "execute_result"
    }
   ],
   "source": [
    "#find how many total observations are in dataset\n",
    "len(df.index)"
   ]
  },
  {
   "cell_type": "markdown",
   "id": "b3676066",
   "metadata": {},
   "source": [
    "### Note:\n",
    "We can see that the dataset contains 150 total observations.\n",
    "\n",
    "For this example we’ll build a linear discriminant analysis model to classify which species a given flower belongs to.\n",
    "\n",
    "We’ll use the following predictor variables in the model:\n",
    "\n",
    "- Sepal length\n",
    "- Sepal width\n",
    "- Petal length\n",
    "- Petal width\n",
    "\n",
    "And we’ll use them to predict the response variable Species, which takes on the following three potential classes:\n",
    "\n",
    "- setosa\n",
    "- versicolor\n",
    "- virginica"
   ]
  },
  {
   "cell_type": "markdown",
   "id": "63367cb9",
   "metadata": {},
   "source": [
    "### Step 3: Fit the LDA Model\n",
    "Next, we’ll fit the LDA model to our data using the LinearDiscriminantAnalsyis function from sklearn:"
   ]
  },
  {
   "cell_type": "code",
   "execution_count": 5,
   "id": "b787eafd",
   "metadata": {},
   "outputs": [
    {
     "data": {
      "text/plain": [
       "LinearDiscriminantAnalysis()"
      ]
     },
     "execution_count": 5,
     "metadata": {},
     "output_type": "execute_result"
    }
   ],
   "source": [
    "#define predictor and response variables\n",
    "X = df[['s_length', 's_width', 'p_length', 'p_width']]\n",
    "y = df['species']\n",
    "\n",
    "#Fit the LDA model\n",
    "model = LinearDiscriminantAnalysis()\n",
    "model.fit(X, y)"
   ]
  },
  {
   "cell_type": "markdown",
   "id": "f6fa3af0",
   "metadata": {},
   "source": [
    "### Step 4: Use the Model to Make Predictions\n",
    "Once we’ve fit the model using our data, we can evaluate how well the model performed by using repeated stratified k-fold cross validation. \n",
    "\n",
    "For this example, we’ll use 10 folds and 3 repeats:"
   ]
  },
  {
   "cell_type": "code",
   "execution_count": 6,
   "id": "95f540ec",
   "metadata": {},
   "outputs": [
    {
     "name": "stdout",
     "output_type": "stream",
     "text": [
      "0.9800000000000001\n"
     ]
    }
   ],
   "source": [
    "#Define method to evaluate model\n",
    "cv = RepeatedStratifiedKFold(n_splits=10, n_repeats=3, random_state=1)\n",
    "\n",
    "#evaluate model\n",
    "scores = cross_val_score(model, X, y, scoring='accuracy', cv=cv, n_jobs=-1)\n",
    "print(np.mean(scores))   "
   ]
  },
  {
   "cell_type": "markdown",
   "id": "5b67ad23",
   "metadata": {},
   "source": [
    "### Note: \n",
    "We can see that the model performed a mean accuracy of 98%.\n",
    "\n",
    "We can also use the model to predict which class a new flower belongs to, based on input values:"
   ]
  },
  {
   "cell_type": "code",
   "execution_count": 8,
   "id": "99eb7a26",
   "metadata": {},
   "outputs": [
    {
     "data": {
      "text/plain": [
       "array(['setosa'], dtype='<U10')"
      ]
     },
     "execution_count": 8,
     "metadata": {},
     "output_type": "execute_result"
    }
   ],
   "source": [
    "#define new observation\n",
    "new = [5, 3, 1, .4]\n",
    "\n",
    "#predict which class the new observation belongs to\n",
    "model.predict([new])"
   ]
  },
  {
   "cell_type": "markdown",
   "id": "65cf5107",
   "metadata": {},
   "source": [
    "### Note:\n",
    "We can see that the model predicts this new observation to belong to the species called setosa."
   ]
  },
  {
   "cell_type": "markdown",
   "id": "fd08c3bd",
   "metadata": {},
   "source": [
    "# Step 5: Visualize the Results\n",
    "Lastly, we can create an LDA plot to view the linear discriminants of the model and visualize how well it separated the three different species in our dataset:"
   ]
  },
  {
   "cell_type": "code",
   "execution_count": 9,
   "id": "fe896baa",
   "metadata": {},
   "outputs": [
    {
     "data": {
      "image/png": "[encoded data removed]",
      "text/plain": [
       "<Figure size 432x288 with 1 Axes>"
      ]
     },
     "metadata": {
      "needs_background": "light"
     },
     "output_type": "display_data"
    }
   ],
   "source": [
    "#define data to plot\n",
    "X = iris.data\n",
    "y = iris.target\n",
    "model = LinearDiscriminantAnalysis()\n",
    "data_plot = model.fit(X, y).transform(X)\n",
    "target_names = iris.target_names\n",
    "\n",
    "#create LDA plot\n",
    "plt.figure()\n",
    "colors = ['red', 'green', 'blue']\n",
    "lw = 2\n",
    "for color, i, target_name in zip(colors, [0, 1, 2], target_names):\n",
    "    plt.scatter(data_plot[y == i, 0], data_plot[y == i, 1], alpha=.8, color=color,\n",
    "                label=target_name)\n",
    "\n",
    "#add legend to plot\n",
    "plt.legend(loc='best', shadow=False, scatterpoints=1)\n",
    "\n",
    "#display LDA plot\n",
    "plt.show()"
   ]
  }
 ],
 "metadata": {
  "kernelspec": {
   "display_name": "Python 3 (ipykernel)",
   "language": "python",
   "name": "python3"
  },
  "language_info": {
   "codemirror_mode": {
    "name": "ipython",
    "version": 3
   },
   "file_extension": ".py",
   "mimetype": "text/x-python",
   "name": "python",
   "nbconvert_exporter": "python",
   "pygments_lexer": "ipython3",
   "version": "3.9.7"
  }
 },
 "nbformat": 4,
 "nbformat_minor": 5
}
