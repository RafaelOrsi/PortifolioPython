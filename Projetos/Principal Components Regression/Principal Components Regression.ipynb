{
 "cells": [
  {
   "cell_type": "markdown",
   "id": "b2036732",
   "metadata": {},
   "source": [
    "# Principal Components Regression in Python"
   ]
  },
  {
   "cell_type": "markdown",
   "id": "527aad7e",
   "metadata": {},
   "source": [
    "### Step 1: Load Necessary Libraries\n",
    "First, we’ll load the necessary functions and libraries for this example:"
   ]
  },
  {
   "cell_type": "code",
   "execution_count": 1,
   "id": "4a2d81b2",
   "metadata": {},
   "outputs": [],
   "source": [
    "import numpy as np\n",
    "import pandas as pd\n",
    "import matplotlib.pyplot as plt\n",
    "from sklearn.preprocessing import scale \n",
    "from sklearn import model_selection\n",
    "from sklearn.model_selection import RepeatedKFold\n",
    "from sklearn.model_selection import train_test_split\n",
    "from sklearn.decomposition import PCA\n",
    "from sklearn.linear_model import LinearRegression\n",
    "from sklearn.metrics import mean_squared_error"
   ]
  },
  {
   "cell_type": "markdown",
   "id": "8b328354",
   "metadata": {},
   "source": [
    "### Step 2: Load the Data"
   ]
  },
  {
   "cell_type": "code",
   "execution_count": 2,
   "id": "2afcf6c4",
   "metadata": {},
   "outputs": [],
   "source": [
    "#define URL where data is located\n",
    "url = \"https://raw.githubusercontent.com/Statology/Python-Guides/main/mtcars.csv\"\n",
    "#read in data\n",
    "data_full = pd.read_csv(url)"
   ]
  },
  {
   "cell_type": "code",
   "execution_count": null,
   "id": "3f9ffd20",
   "metadata": {},
   "outputs": [],
   "source": [
    "#select subset of data\n",
    "data = data_full[[\"mpg\", \"disp\", \"drat\", \"wt\", \"qsec\", \"hp\"]]"
   ]
  },
  {
   "cell_type": "code",
   "execution_count": null,
   "id": "f16623d0",
   "metadata": {},
   "outputs": [],
   "source": [
    "#view first six rows of data\n",
    "data[0:6]\n",
    "#define predictor and response variables\n",
    "X = data[[\"mpg\", \"disp\", \"drat\", \"wt\", \"qsec\"]]\n",
    "y = data[[\"hp\"]]"
   ]
  },
  {
   "cell_type": "code",
   "execution_count": null,
   "id": "4bc07871",
   "metadata": {},
   "outputs": [],
   "source": [
    "#scale predictor variables\n",
    "pca = PCA()\n",
    "X_reduced = pca.fit_transform(scale(X))"
   ]
  },
  {
   "cell_type": "code",
   "execution_count": null,
   "id": "24d47b7a",
   "metadata": {},
   "outputs": [],
   "source": [
    "#define cross validation method\n",
    "cv = RepeatedKFold(n_splits=10, n_repeats=3, random_state=1)\n",
    "\n",
    "regr = LinearRegression()\n",
    "mse = []"
   ]
  },
  {
   "cell_type": "code",
   "execution_count": null,
   "id": "93cba46e",
   "metadata": {},
   "outputs": [],
   "source": [
    "# Calculate MSE with only the intercept\n",
    "score = -1*model_selection.cross_val_score(regr, np.ones((len(X_reduced),1)), y, cv=cv, scoring='neg_mean_squared_error').mean()    \n",
    "mse.append(score)"
   ]
  },
  {
   "cell_type": "code",
   "execution_count": null,
   "id": "333bba88",
   "metadata": {},
   "outputs": [],
   "source": [
    "# Calculate MSE using cross-validation, adding one component at a time\n",
    "for i in np.arange(1, 6):\n",
    "    score = -1*model_selection.cross_val_score(regr, X_reduced[:,:i], y, cv=cv, scoring='neg_mean_squared_error').mean()\n",
    "    mse.append(score)"
   ]
  },
  {
   "cell_type": "code",
   "execution_count": null,
   "id": "3b696086",
   "metadata": {},
   "outputs": [],
   "source": [
    "# Plot cross-validation results    \n",
    "plt.plot(mse)\n",
    "plt.xlabel('Number of Principal Components')\n",
    "plt.ylabel('MSE')\n",
    "plt.title('hp')"
   ]
  },
  {
   "cell_type": "code",
   "execution_count": null,
   "id": "453b8cac",
   "metadata": {},
   "outputs": [],
   "source": [
    "#calculate percentage of variation explained\n",
    "np.cumsum(np.round(pca.explained_variance_ratio_, decimals=4)*100)"
   ]
  },
  {
   "cell_type": "code",
   "execution_count": null,
   "id": "84e6c560",
   "metadata": {},
   "outputs": [],
   "source": [
    "#split the dataset into training (70%) and testing (30%) sets\n",
    "X_train,X_test,y_train,y_test = train_test_split(X,y,test_size=0.3,random_state=0) "
   ]
  },
  {
   "cell_type": "code",
   "execution_count": null,
   "id": "3465509d",
   "metadata": {},
   "outputs": [],
   "source": [
    "#scale the training and testing data\n",
    "X_reduced_train = pca.fit_transform(scale(X_train))\n",
    "X_reduced_test = pca.transform(scale(X_test))[:,:1]"
   ]
  },
  {
   "cell_type": "code",
   "execution_count": null,
   "id": "2b2a3468",
   "metadata": {},
   "outputs": [],
   "source": [
    "#train PCR model on training data \n",
    "regr = LinearRegression()\n",
    "regr.fit(X_reduced_train[:,:1], y_train)"
   ]
  },
  {
   "cell_type": "code",
   "execution_count": null,
   "id": "fcf1342a",
   "metadata": {},
   "outputs": [],
   "source": [
    "#calculate RMSE\n",
    "pred = regr.predict(X_reduced_test)\n",
    "np.sqrt(mean_squared_error(y_test, pred))"
   ]
  },
  {
   "cell_type": "code",
   "execution_count": null,
   "id": "0f17d072",
   "metadata": {},
   "outputs": [],
   "source": []
  }
 ],
 "metadata": {
  "kernelspec": {
   "display_name": "Python 3 (ipykernel)",
   "language": "python",
   "name": "python3"
  },
  "language_info": {
   "codemirror_mode": {
    "name": "ipython",
    "version": 3
   },
   "file_extension": ".py",
   "mimetype": "text/x-python",
   "name": "python",
   "nbconvert_exporter": "python",
   "pygments_lexer": "ipython3",
   "version": "3.9.7"
  }
 },
 "nbformat": 4,
 "nbformat_minor": 5
}
